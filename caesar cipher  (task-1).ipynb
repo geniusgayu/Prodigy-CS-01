{
 "cells": [
  {
   "cell_type": "code",
   "execution_count": 1,
   "id": "678a38dc",
   "metadata": {},
   "outputs": [
    {
     "name": "stdout",
     "output_type": "stream",
     "text": [
      "\n",
      "*** CAESAR CIPHER PROGRAM ***\n",
      "\n",
      "Do you want to encrypt or decrypt?\n",
      "e/d:e\n",
      "\n",
      "ENCRYPTION MODE SELECTED\n",
      "\n",
      "Enter the key (1 through 26):3\n",
      "Enter the text to encrypt:hello \n",
      "CIPHERTEXT: khoor \n"
     ]
    }
   ],
   "source": [
    "letters = 'abcdefghijklmnopqrstuvwxyz'\n",
    "num_letters = len(letters)\n",
    "\n",
    "def encrypt(plaintext, key):\n",
    "    ciphertext = ''\n",
    "    for letter in plaintext:\n",
    "        letter = letter.lower()\n",
    "        if not letter == ' ':\n",
    "            index = letters.find(letter)\n",
    "            if index == -1:\n",
    "                ciphertext += letter\n",
    "            else:\n",
    "                new_index = (index + key) % num_letters\n",
    "                ciphertext += letters[new_index]\n",
    "        else:\n",
    "            ciphertext += ' '\n",
    "    return ciphertext\n",
    "\n",
    "\n",
    "def decrypt(ciphertext, key):\n",
    "    plaintext = ''\n",
    "    for letter in ciphertext:\n",
    "        letter = letter.lower()\n",
    "        if not letter == ' ':\n",
    "            index = letters.find(letter)\n",
    "            if index == -1:\n",
    "                plaintext += letter\n",
    "            else:\n",
    "                new_index = (index - key) % num_letters\n",
    "                plaintext += letters[new_index]\n",
    "        else:\n",
    "            plaintext += ' '\n",
    "    return plaintext\n",
    "\n",
    "\n",
    "print()\n",
    "print('*** CAESAR CIPHER PROGRAM ***')\n",
    "print()\n",
    "\n",
    "print('Do you want to encrypt or decrypt?')\n",
    "user_input = input('e/d:').lower()\n",
    "print()\n",
    "\n",
    "if user_input == 'e':\n",
    "    print('ENCRYPTION MODE SELECTED')\n",
    "    print()\n",
    "    key = int(input('Enter the key (1 through 26):'))\n",
    "    text = input('Enter the text to encrypt:')\n",
    "    ciphertext = encrypt(text, key)\n",
    "    print(f'CIPHERTEXT: {ciphertext}')\n",
    "    \n",
    "elif user_input == 'd':\n",
    "    print('DECRYPTION MODE SELECTED')\n",
    "    print()\n",
    "    key = int(input('Enter the key (1 through 26):'))\n",
    "    text = input('Enter the text to decrypt:')\n",
    "    plaintext = decrypt(text, key)\n",
    "    print(f'PLAINTEXT: {plaintext}')\n"
   ]
  },
  {
   "cell_type": "code",
   "execution_count": null,
   "id": "952ded5e",
   "metadata": {},
   "outputs": [],
   "source": []
  }
 ],
 "metadata": {
  "kernelspec": {
   "display_name": "Python 3 (ipykernel)",
   "language": "python",
   "name": "python3"
  },
  "language_info": {
   "codemirror_mode": {
    "name": "ipython",
    "version": 3
   },
   "file_extension": ".py",
   "mimetype": "text/x-python",
   "name": "python",
   "nbconvert_exporter": "python",
   "pygments_lexer": "ipython3",
   "version": "3.11.5"
  }
 },
 "nbformat": 4,
 "nbformat_minor": 5
}
